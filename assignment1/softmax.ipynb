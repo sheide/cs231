{
 "cells": [
  {
   "cell_type": "markdown",
   "metadata": {},
   "source": [
    "# Softmax exercise\n",
    "\n",
    "*Complete and hand in this completed worksheet (including its outputs and any supporting code outside of the worksheet) with your assignment submission. For more details see the [assignments page](http://vision.stanford.edu/teaching/cs231n/assignments.html) on the course website.*\n",
    "\n",
    "This exercise is analogous to the SVM exercise. You will:\n",
    "\n",
    "- implement a fully-vectorized **loss function** for the Softmax classifier\n",
    "- implement the fully-vectorized expression for its **analytic gradient**\n",
    "- **check your implementation** with numerical gradient\n",
    "- use a validation set to **tune the learning rate and regularization** strength\n",
    "- **optimize** the loss function with **SGD**\n",
    "- **visualize** the final learned weights\n"
   ]
  },
  {
   "cell_type": "code",
   "execution_count": 1,
   "metadata": {
    "collapsed": false
   },
   "outputs": [],
   "source": [
    "import random\n",
    "import numpy as np\n",
    "from cs231n.data_utils import load_CIFAR10\n",
    "import matplotlib.pyplot as plt\n",
    "%matplotlib inline\n",
    "plt.rcParams['figure.figsize'] = (10.0, 8.0) # set default size of plots\n",
    "plt.rcParams['image.interpolation'] = 'nearest'\n",
    "plt.rcParams['image.cmap'] = 'gray'\n",
    "\n",
    "# for auto-reloading extenrnal modules\n",
    "# see http://stackoverflow.com/questions/1907993/autoreload-of-modules-in-ipython\n",
    "%load_ext autoreload\n",
    "%autoreload 2"
   ]
  },
  {
   "cell_type": "code",
   "execution_count": 2,
   "metadata": {
    "collapsed": false
   },
   "outputs": [
    {
     "name": "stdout",
     "output_type": "stream",
     "text": [
      "Train data shape:  (49000, 3073)\n",
      "Train labels shape:  (49000,)\n",
      "Validation data shape:  (1000, 3073)\n",
      "Validation labels shape:  (1000,)\n",
      "Test data shape:  (1000, 3073)\n",
      "Test labels shape:  (1000,)\n",
      "dev data shape:  (500, 3073)\n",
      "dev labels shape:  (500,)\n"
     ]
    }
   ],
   "source": [
    "def get_CIFAR10_data(num_training=49000, num_validation=1000, num_test=1000, num_dev=500):\n",
    "  \"\"\"\n",
    "  Load the CIFAR-10 dataset from disk and perform preprocessing to prepare\n",
    "  it for the linear classifier. These are the same steps as we used for the\n",
    "  SVM, but condensed to a single function.  \n",
    "  \"\"\"\n",
    "  # Load the raw CIFAR-10 data\n",
    "  cifar10_dir = 'cs231n/datasets/cifar-10-batches-py'\n",
    "  X_train, y_train, X_test, y_test = load_CIFAR10(cifar10_dir)\n",
    "  \n",
    "  # subsample the data\n",
    "  mask = range(num_training, num_training + num_validation)\n",
    "  X_val = X_train[mask]\n",
    "  y_val = y_train[mask]\n",
    "  mask = range(num_training)\n",
    "  X_train = X_train[mask]\n",
    "  y_train = y_train[mask]\n",
    "  mask = range(num_test)\n",
    "  X_test = X_test[mask]\n",
    "  y_test = y_test[mask]\n",
    "  mask = np.random.choice(num_training, num_dev, replace=False)\n",
    "  X_dev = X_train[mask]\n",
    "  y_dev = y_train[mask]\n",
    "  \n",
    "  # Preprocessing: reshape the image data into rows\n",
    "  X_train = np.reshape(X_train, (X_train.shape[0], -1))\n",
    "  X_val = np.reshape(X_val, (X_val.shape[0], -1))\n",
    "  X_test = np.reshape(X_test, (X_test.shape[0], -1))\n",
    "  X_dev = np.reshape(X_dev, (X_dev.shape[0], -1))\n",
    "  \n",
    "  # Normalize the data: subtract the mean image\n",
    "  mean_image = np.mean(X_train, axis = 0)\n",
    "  X_train -= mean_image\n",
    "  X_val -= mean_image\n",
    "  X_test -= mean_image\n",
    "  X_dev -= mean_image\n",
    "  \n",
    "  # add bias dimension and transform into columns\n",
    "  X_train = np.hstack([X_train, np.ones((X_train.shape[0], 1))])\n",
    "  X_val = np.hstack([X_val, np.ones((X_val.shape[0], 1))])\n",
    "  X_test = np.hstack([X_test, np.ones((X_test.shape[0], 1))])\n",
    "  X_dev = np.hstack([X_dev, np.ones((X_dev.shape[0], 1))])\n",
    "  \n",
    "  return X_train, y_train, X_val, y_val, X_test, y_test, X_dev, y_dev\n",
    "\n",
    "\n",
    "# Invoke the above function to get our data.\n",
    "X_train, y_train, X_val, y_val, X_test, y_test, X_dev, y_dev = get_CIFAR10_data()\n",
    "print 'Train data shape: ', X_train.shape\n",
    "print 'Train labels shape: ', y_train.shape\n",
    "print 'Validation data shape: ', X_val.shape\n",
    "print 'Validation labels shape: ', y_val.shape\n",
    "print 'Test data shape: ', X_test.shape\n",
    "print 'Test labels shape: ', y_test.shape\n",
    "print 'dev data shape: ', X_dev.shape\n",
    "print 'dev labels shape: ', y_dev.shape"
   ]
  },
  {
   "cell_type": "markdown",
   "metadata": {},
   "source": [
    "## Softmax Classifier\n",
    "\n",
    "Your code for this section will all be written inside **cs231n/classifiers/softmax.py**. \n"
   ]
  },
  {
   "cell_type": "code",
   "execution_count": 5,
   "metadata": {
    "collapsed": false
   },
   "outputs": [
    {
     "name": "stdout",
     "output_type": "stream",
     "text": [
      "loss: 2.360853\n",
      "sanity check: 2.302585\n"
     ]
    }
   ],
   "source": [
    "# First implement the naive softmax loss function with nested loops.\n",
    "# Open the file cs231n/classifiers/softmax.py and implement the\n",
    "# softmax_loss_naive function.\n",
    "\n",
    "from cs231n.classifiers.softmax import softmax_loss_naive\n",
    "import time\n",
    "\n",
    "# Generate a random softmax weight matrix and use it to compute the loss.\n",
    "W = np.random.randn(3073, 10) * 0.0001\n",
    "loss, grad = softmax_loss_naive(W, X_dev, y_dev, 0.0)\n",
    "\n",
    "# As a rough sanity check, our loss should be something close to -log(0.1).\n",
    "print 'loss: %f' % loss\n",
    "print 'sanity check: %f' % (-np.log(0.1))"
   ]
  },
  {
   "cell_type": "markdown",
   "metadata": {},
   "source": [
    "## Inline Question 1:\n",
    "Why do we expect our loss to be close to -log(0.1)? Explain briefly.**\n",
    "\n",
    "**Your answer:** *Fill this in*\n"
   ]
  },
  {
   "cell_type": "code",
   "execution_count": 6,
   "metadata": {
    "collapsed": false
   },
   "outputs": [
    {
     "name": "stdout",
     "output_type": "stream",
     "text": [
      "numerical: 2.018550 analytic: 2.018549, relative error: 2.724400e-08\n",
      "numerical: 0.856943 analytic: 0.856943, relative error: 3.836972e-10\n",
      "numerical: 2.080306 analytic: 2.080306, relative error: 1.843015e-08\n",
      "numerical: 2.281758 analytic: 2.281758, relative error: 6.839205e-09\n",
      "numerical: 3.599010 analytic: 3.599010, relative error: 2.381067e-08\n",
      "numerical: 0.222671 analytic: 0.222671, relative error: 2.790818e-07\n",
      "numerical: 0.430108 analytic: 0.430108, relative error: 7.512671e-08\n",
      "numerical: 1.658224 analytic: 1.658224, relative error: 2.544648e-08\n",
      "numerical: 5.237833 analytic: 5.237833, relative error: 1.882855e-08\n",
      "numerical: -1.872760 analytic: -1.872760, relative error: 2.266707e-09\n",
      "numerical: 0.797285 analytic: 0.797285, relative error: 4.400507e-09\n",
      "numerical: -0.015612 analytic: -0.015612, relative error: 9.738298e-07\n",
      "numerical: 1.594772 analytic: 1.594772, relative error: 9.671036e-09\n",
      "numerical: -0.659206 analytic: -0.659206, relative error: 7.534307e-08\n",
      "numerical: -1.011640 analytic: -1.011640, relative error: 2.008876e-08\n",
      "numerical: 0.848892 analytic: 0.848892, relative error: 2.126141e-08\n",
      "numerical: -2.145333 analytic: -2.145333, relative error: 1.886657e-08\n",
      "numerical: -3.837975 analytic: -3.837975, relative error: 8.615197e-09\n",
      "numerical: -1.019588 analytic: -1.019588, relative error: 3.768644e-08\n",
      "numerical: 0.861397 analytic: 0.861397, relative error: 3.440011e-08\n"
     ]
    }
   ],
   "source": [
    "# Complete the implementation of softmax_loss_naive and implement a (naive)\n",
    "# version of the gradient that uses nested loops.\n",
    "loss, grad = softmax_loss_naive(W, X_dev, y_dev, 0.0)\n",
    "\n",
    "# As we did for the SVM, use numeric gradient checking as a debugging tool.\n",
    "# The numeric gradient should be close to the analytic gradient.\n",
    "from cs231n.gradient_check import grad_check_sparse\n",
    "f = lambda w: softmax_loss_naive(w, X_dev, y_dev, 0.0)[0]\n",
    "grad_numerical = grad_check_sparse(f, W, grad, 10)\n",
    "\n",
    "# similar to SVM case, do another gradient check with regularization\n",
    "loss, grad = softmax_loss_naive(W, X_dev, y_dev, 1e2)\n",
    "f = lambda w: softmax_loss_naive(w, X_dev, y_dev, 1e2)[0]\n",
    "grad_numerical = grad_check_sparse(f, W, grad, 10)"
   ]
  },
  {
   "cell_type": "code",
   "execution_count": 20,
   "metadata": {
    "collapsed": false
   },
   "outputs": [
    {
     "name": "stdout",
     "output_type": "stream",
     "text": [
      "naive loss: 2.360853e+00 computed in 0.657265s\n",
      "(500, 10)\n",
      "vectorized loss: 2.360853e+00 computed in 0.009809s\n",
      "Loss difference: 0.000000\n",
      "Gradient difference: 0.000000\n"
     ]
    }
   ],
   "source": [
    "# Now that we have a naive implementation of the softmax loss function and its gradient,\n",
    "# implement a vectorized version in softmax_loss_vectorized.\n",
    "# The two versions should compute the same results, but the vectorized version should be\n",
    "# much faster.\n",
    "tic = time.time()\n",
    "loss_naive, grad_naive = softmax_loss_naive(W, X_dev, y_dev, 0.00001)\n",
    "toc = time.time()\n",
    "print 'naive loss: %e computed in %fs' % (loss_naive, toc - tic)\n",
    "\n",
    "from cs231n.classifiers.softmax import softmax_loss_vectorized\n",
    "tic = time.time()\n",
    "loss_vectorized, grad_vectorized = softmax_loss_vectorized(W, X_dev, y_dev, 0.00001)\n",
    "toc = time.time()\n",
    "print 'vectorized loss: %e computed in %fs' % (loss_vectorized, toc - tic)\n",
    "\n",
    "# As we did for the SVM, we use the Frobenius norm to compare the two versions\n",
    "# of the gradient.\n",
    "grad_difference = np.linalg.norm(grad_naive - grad_vectorized, ord='fro')\n",
    "print 'Loss difference: %f' % np.abs(loss_naive - loss_vectorized)\n",
    "print 'Gradient difference: %f' % grad_difference"
   ]
  },
  {
   "cell_type": "code",
   "execution_count": 28,
   "metadata": {
    "collapsed": false
   },
   "outputs": [
    {
     "name": "stdout",
     "output_type": "stream",
     "text": [
      "iteration 0 / 1500: loss 157.061360\n",
      "iteration 100 / 1500: loss 140.662876\n",
      "iteration 200 / 1500: loss 126.895557\n",
      "iteration 300 / 1500: loss 114.854673\n",
      "iteration 400 / 1500: loss 103.914474\n",
      "iteration 500 / 1500: loss 93.807042\n",
      "iteration 600 / 1500: loss 84.935280\n",
      "iteration 700 / 1500: loss 77.216931\n",
      "iteration 800 / 1500: loss 69.826912\n",
      "iteration 900 / 1500: loss 63.431603\n",
      "iteration 1000 / 1500: loss 57.402164\n",
      "iteration 1100 / 1500: loss 52.098737\n",
      "iteration 1200 / 1500: loss 47.341375\n",
      "iteration 1300 / 1500: loss 42.965645\n",
      "iteration 1400 / 1500: loss 39.095849\n",
      "iteration 0 / 1500: loss 310.259698\n",
      "iteration 100 / 1500: loss 253.337999\n",
      "iteration 200 / 1500: loss 207.472467\n",
      "iteration 300 / 1500: loss 169.765619\n",
      "iteration 400 / 1500: loss 139.068270\n",
      "iteration 500 / 1500: loss 114.035456\n",
      "iteration 600 / 1500: loss 93.733598\n",
      "iteration 700 / 1500: loss 77.019851\n",
      "iteration 800 / 1500: loss 63.263205\n",
      "iteration 900 / 1500: loss 52.225523\n",
      "iteration 1000 / 1500: loss 42.978828\n",
      "iteration 1100 / 1500: loss 35.501719\n",
      "iteration 1200 / 1500: loss 29.423014\n",
      "iteration 1300 / 1500: loss 24.447643\n",
      "iteration 1400 / 1500: loss 20.290040\n",
      "iteration 0 / 1500: loss 777.886260\n",
      "iteration 100 / 1500: loss 471.407650\n",
      "iteration 200 / 1500: loss 286.120541\n",
      "iteration 300 / 1500: loss 174.131809\n",
      "iteration 400 / 1500: loss 106.190851\n",
      "iteration 500 / 1500: loss 65.153161\n",
      "iteration 600 / 1500: loss 40.200744\n",
      "iteration 700 / 1500: loss 25.116051\n",
      "iteration 800 / 1500: loss 16.041821\n",
      "iteration 900 / 1500: loss 10.552926\n",
      "iteration 1000 / 1500: loss 7.214693\n",
      "iteration 1100 / 1500: loss 5.199320\n",
      "iteration 1200 / 1500: loss 3.933076\n",
      "iteration 1300 / 1500: loss 3.221203\n",
      "iteration 1400 / 1500: loss 2.726163\n",
      "iteration 0 / 1500: loss 159.899529\n",
      "iteration 100 / 1500: loss 129.878951\n",
      "iteration 200 / 1500: loss 106.076160\n",
      "iteration 300 / 1500: loss 86.870070\n",
      "iteration 400 / 1500: loss 71.401888\n",
      "iteration 500 / 1500: loss 58.625369\n",
      "iteration 600 / 1500: loss 48.312064\n",
      "iteration 700 / 1500: loss 39.769623\n",
      "iteration 800 / 1500: loss 32.846469\n",
      "iteration 900 / 1500: loss 27.170785\n",
      "iteration 1000 / 1500: loss 22.666027\n",
      "iteration 1100 / 1500: loss 18.827075\n",
      "iteration 1200 / 1500: loss 15.807159\n",
      "iteration 1300 / 1500: loss 13.276650\n",
      "iteration 1400 / 1500: loss 11.099871\n",
      "iteration 0 / 1500: loss 313.152135\n",
      "iteration 100 / 1500: loss 209.471249\n",
      "iteration 200 / 1500: loss 140.443862\n",
      "iteration 300 / 1500: loss 94.331315\n",
      "iteration 400 / 1500: loss 63.861771\n",
      "iteration 500 / 1500: loss 43.256564\n",
      "iteration 600 / 1500: loss 29.617500\n",
      "iteration 700 / 1500: loss 20.468340\n",
      "iteration 800 / 1500: loss 14.348565\n",
      "iteration 900 / 1500: loss 10.343236\n",
      "iteration 1000 / 1500: loss 7.546118\n",
      "iteration 1100 / 1500: loss 5.711463\n",
      "iteration 1200 / 1500: loss 4.564783\n",
      "iteration 1300 / 1500: loss 3.626444\n",
      "iteration 1400 / 1500: loss 3.002846\n",
      "iteration 0 / 1500: loss 774.991994\n",
      "iteration 100 / 1500: loss 284.473678\n",
      "iteration 200 / 1500: loss 105.503415\n",
      "iteration 300 / 1500: loss 39.889542\n",
      "iteration 400 / 1500: loss 15.875105\n",
      "iteration 500 / 1500: loss 7.139786\n",
      "iteration 600 / 1500: loss 3.865183\n",
      "iteration 700 / 1500: loss 2.778374\n",
      "iteration 800 / 1500: loss 2.326645\n",
      "iteration 900 / 1500: loss 2.139291\n",
      "iteration 1000 / 1500: loss 2.157433\n",
      "iteration 1100 / 1500: loss 2.118154\n",
      "iteration 1200 / 1500: loss 2.058196\n",
      "iteration 1300 / 1500: loss 2.066354\n",
      "iteration 1400 / 1500: loss 2.107195\n",
      "iteration 0 / 1500: loss 159.149613\n",
      "iteration 100 / 1500: loss 57.521666\n",
      "iteration 200 / 1500: loss 22.154948\n",
      "iteration 300 / 1500: loss 9.355525\n",
      "iteration 400 / 1500: loss 4.740943\n",
      "iteration 500 / 1500: loss 2.930765\n",
      "iteration 600 / 1500: loss 2.348466\n",
      "iteration 700 / 1500: loss 2.035922\n",
      "iteration 800 / 1500: loss 2.023086\n",
      "iteration 900 / 1500: loss 2.023533\n",
      "iteration 1000 / 1500: loss 1.990989\n",
      "iteration 1100 / 1500: loss 2.010668\n",
      "iteration 1200 / 1500: loss 1.997845\n",
      "iteration 1300 / 1500: loss 1.955265\n",
      "iteration 1400 / 1500: loss 1.983731\n",
      "iteration 0 / 1500: loss 310.822770\n",
      "iteration 100 / 1500: loss 42.694019\n",
      "iteration 200 / 1500: loss 7.429225\n",
      "iteration 300 / 1500: loss 2.667782\n",
      "iteration 400 / 1500: loss 2.096079\n",
      "iteration 500 / 1500: loss 1.948679\n",
      "iteration 600 / 1500: loss 2.016723\n",
      "iteration 700 / 1500: loss 2.045054\n",
      "iteration 800 / 1500: loss 1.959563\n",
      "iteration 900 / 1500: loss 1.891059\n",
      "iteration 1000 / 1500: loss 1.980374\n",
      "iteration 1100 / 1500: loss 2.040311\n",
      "iteration 1200 / 1500: loss 2.053841\n",
      "iteration 1300 / 1500: loss 2.086922\n",
      "iteration 1400 / 1500: loss 2.029714\n",
      "iteration 0 / 1500: loss 773.497246\n",
      "iteration 100 / 1500: loss 6.867151\n",
      "iteration 200 / 1500: loss 2.170878\n",
      "iteration 300 / 1500: loss 2.099692\n",
      "iteration 400 / 1500: loss 2.109104\n",
      "iteration 500 / 1500: loss 2.080024\n",
      "iteration 600 / 1500: loss 2.120968\n",
      "iteration 700 / 1500: loss 2.061149\n",
      "iteration 800 / 1500: loss 2.133050\n",
      "iteration 900 / 1500: loss 2.088453\n",
      "iteration 1000 / 1500: loss 2.027421\n",
      "iteration 1100 / 1500: loss 2.105098\n",
      "iteration 1200 / 1500: loss 2.099269\n",
      "iteration 1300 / 1500: loss 2.091225\n",
      "iteration 1400 / 1500: loss 2.089844\n",
      "lr 5.000000e-08 reg 1.000000e+04 train accuracy: 0.257388 val accuracy: 0.251000\n",
      "lr 5.000000e-08 reg 2.000000e+04 train accuracy: 0.303551 val accuracy: 0.331000\n",
      "lr 5.000000e-08 reg 5.000000e+04 train accuracy: 0.323286 val accuracy: 0.347000\n",
      "lr 1.000000e-07 reg 1.000000e+04 train accuracy: 0.336041 val accuracy: 0.339000\n",
      "lr 1.000000e-07 reg 2.000000e+04 train accuracy: 0.357918 val accuracy: 0.364000\n",
      "lr 1.000000e-07 reg 5.000000e+04 train accuracy: 0.326388 val accuracy: 0.337000\n",
      "lr 5.000000e-07 reg 1.000000e+04 train accuracy: 0.368694 val accuracy: 0.378000\n",
      "lr 5.000000e-07 reg 2.000000e+04 train accuracy: 0.354612 val accuracy: 0.368000\n",
      "lr 5.000000e-07 reg 5.000000e+04 train accuracy: 0.324429 val accuracy: 0.349000\n",
      "best validation accuracy achieved during cross-validation: 0.378000\n"
     ]
    }
   ],
   "source": [
    "# Use the validation set to tune hyperparameters (regularization strength and\n",
    "# learning rate). You should experiment with different ranges for the learning\n",
    "# rates and regularization strengths; if you are careful you should be able to\n",
    "# get a classification accuracy of over 0.35 on the validation set.\n",
    "from cs231n.classifiers import Softmax\n",
    "results = {}\n",
    "best_val = -1\n",
    "best_softmax = None\n",
    "learning_rates = [5e-8, 1e-7, 5e-7]\n",
    "regularization_strengths = [1e4, 2e4, 5e4]\n",
    "\n",
    "################################################################################\n",
    "# TODO:                                                                        #\n",
    "# Use the validation set to set the learning rate and regularization strength. #\n",
    "# This should be identical to the validation that you did for the SVM; save    #\n",
    "# the best trained softmax classifer in best_softmax.                          #\n",
    "################################################################################\n",
    "for lr in learning_rates:\n",
    "    for rs in regularization_strengths:\n",
    "        softmax = Softmax()\n",
    "        loss_hist = softmax.train(X_train, y_train, lr, rs,\n",
    "        num_iters=1500, verbose=True)\n",
    "        y_train_pred = softmax.predict(X_train)\n",
    "        y_val_pred = softmax.predict(X_val)\n",
    "        train_acc = np.mean(y_train == y_train_pred)\n",
    "        val_acc = np.mean(y_val == y_val_pred)\n",
    "        results[(lr,rs)] = (train_acc, val_acc)\n",
    "        if(val_acc > best_val):\n",
    "            best_val = val_acc\n",
    "            best_softmax = softmax\n",
    "################################################################################\n",
    "#                              END OF YOUR CODE                                #\n",
    "################################################################################\n",
    "    \n",
    "# Print out results.\n",
    "for lr, reg in sorted(results):\n",
    "    train_accuracy, val_accuracy = results[(lr, reg)]\n",
    "    print 'lr %e reg %e train accuracy: %f val accuracy: %f' % (\n",
    "                lr, reg, train_accuracy, val_accuracy)\n",
    "    \n",
    "print 'best validation accuracy achieved during cross-validation: %f' % best_val"
   ]
  },
  {
   "cell_type": "code",
   "execution_count": 29,
   "metadata": {
    "collapsed": false
   },
   "outputs": [
    {
     "name": "stdout",
     "output_type": "stream",
     "text": [
      "softmax on raw pixels final test set accuracy: 0.372000\n"
     ]
    }
   ],
   "source": [
    "# evaluate on test set\n",
    "# Evaluate the best softmax on test set\n",
    "y_test_pred = best_softmax.predict(X_test)\n",
    "test_accuracy = np.mean(y_test == y_test_pred)\n",
    "print 'softmax on raw pixels final test set accuracy: %f' % (test_accuracy, )"
   ]
  },
  {
   "cell_type": "code",
   "execution_count": 30,
   "metadata": {
    "collapsed": false
   },
   "outputs": [
    {
     "data": {
      "image/png": "[encoded data removed]",
      "text/plain": [
       "<matplotlib.figure.Figure at 0x10b4a4490>"
      ]
     },
     "metadata": {},
     "output_type": "display_data"
    }
   ],
   "source": [
    "# Visualize the learned weights for each class\n",
    "w = best_softmax.W[:-1,:] # strip out the bias\n",
    "w = w.reshape(32, 32, 3, 10)\n",
    "\n",
    "w_min, w_max = np.min(w), np.max(w)\n",
    "\n",
    "classes = ['plane', 'car', 'bird', 'cat', 'deer', 'dog', 'frog', 'horse', 'ship', 'truck']\n",
    "for i in xrange(10):\n",
    "  plt.subplot(2, 5, i + 1)\n",
    "  \n",
    "  # Rescale the weights to be between 0 and 255\n",
    "  wimg = 255.0 * (w[:, :, :, i].squeeze() - w_min) / (w_max - w_min)\n",
    "  plt.imshow(wimg.astype('uint8'))\n",
    "  plt.axis('off')\n",
    "  plt.title(classes[i])"
   ]
  },
  {
   "cell_type": "code",
   "execution_count": null,
   "metadata": {
    "collapsed": true
   },
   "outputs": [],
   "source": []
  }
 ],
 "metadata": {
  "kernelspec": {
   "display_name": "Python 2",
   "language": "python",
   "name": "python2"
  },
  "language_info": {
   "codemirror_mode": {
    "name": "ipython",
    "version": 2
   },
   "file_extension": ".py",
   "mimetype": "text/x-python",
   "name": "python",
   "nbconvert_exporter": "python",
   "pygments_lexer": "ipython2",
   "version": "2.7.11"
  }
 },
 "nbformat": 4,
 "nbformat_minor": 0
}
